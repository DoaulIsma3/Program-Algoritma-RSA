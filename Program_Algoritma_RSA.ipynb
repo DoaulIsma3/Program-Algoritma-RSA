{
  "nbformat": 4,
  "nbformat_minor": 0,
  "metadata": {
    "colab": {
      "provenance": [],
      "authorship_tag": "ABX9TyNn6hUdubaSBOAHn26EQPGt",
      "include_colab_link": true
    },
    "kernelspec": {
      "name": "python3",
      "display_name": "Python 3"
    },
    "language_info": {
      "name": "python"
    }
  },
  "cells": [
    {
      "cell_type": "markdown",
      "metadata": {
        "id": "view-in-github",
        "colab_type": "text"
      },
      "source": [
        "<a href=\"https://colab.research.google.com/github/DoaulIsma3/Program-Algoritma-RSA/blob/main/Program_Algoritma_RSA.ipynb\" target=\"_parent\"><img src=\"https://colab.research.google.com/assets/colab-badge.svg\" alt=\"Open In Colab\"/></a>"
      ]
    },
    {
      "cell_type": "code",
      "source": [
        "# Fungsi untuk menghitung FPB (digunakan untuk validasi kunci publik e)\n",
        "def gcd(a, b):\n",
        "    while b != 0:\n",
        "        a, b = b, a % b\n",
        "    return a\n",
        "\n",
        "# Fungsi untuk menghitung invers modulo (mencari kunci privat d)\n",
        "def mod_inverse(e, phi):\n",
        "    d_old, d = 0, 1\n",
        "    r_old, r = phi, e\n",
        "    while r != 0:\n",
        "        quotient = r_old // r\n",
        "        r_old, r = r, r_old - quotient * r\n",
        "        d_old, d = d, d_old - quotient * d\n",
        "    return d_old % phi\n",
        "\n",
        "# Nilai bilangan prima (bisa diganti)\n",
        "p = 17\n",
        "q = 11\n",
        "\n",
        "# Kunci publik: e\n",
        "e = 7\n",
        "\n",
        "# Hitung n = p × q dan phi = (p−1)(q−1)\n",
        "n = p * q\n",
        "phi = (p - 1) * (q - 1)\n",
        "\n",
        "# Validasi bahwa e dan phi saling prima\n",
        "assert gcd(e, phi) == 1\n",
        "\n",
        "# Ambil input plaintext dari user\n",
        "plaintext = input(\"Masukkan plaintext: \").upper()\n",
        "\n",
        "# Inisialisasi list untuk menyimpan hasil enkripsi\n",
        "ciphertext = []\n",
        "\n",
        "# Proses enkripsi huruf per huruf\n",
        "for char in plaintext:\n",
        "    if char.isalpha():\n",
        "        m = ord(char) - 65           # Ubah huruf ke angka (A=0, B=1, ..., Z=25)\n",
        "        c = pow(m, e, n)             # Enkripsi dengan rumus: c = m^e mod n\n",
        "        ciphertext.append(c)        # Simpan hasil enkripsi\n",
        "    else:\n",
        "        ciphertext.append(char)     # Simpan karakter lain (spasi, tanda baca)\n",
        "\n",
        "# Tampilkan hasil enkripsi\n",
        "print(\"Ciphertext (angka):\", ciphertext)\n"
      ],
      "metadata": {
        "colab": {
          "base_uri": "https://localhost:8080/"
        },
        "id": "W9SkWxTXG75l",
        "outputId": "7a972453-829a-46d2-b37c-126b1efaf452"
      },
      "execution_count": null,
      "outputs": [
        {
          "output_type": "stream",
          "name": "stdout",
          "text": [
            "Masukkan plaintext: halo semua\n",
            "Ciphertext (angka): [182, 0, 88, 108, ' ', 171, 115, 177, 147, 0]\n"
          ]
        }
      ]
    },
    {
      "cell_type": "code",
      "source": [
        "# Fungsi untuk mencari invers modulo, digunakan untuk menghitung d\n",
        "def mod_inverse(e, phi):\n",
        "    d_old, d = 0, 1\n",
        "    r_old, r = phi, e\n",
        "    while r != 0:\n",
        "        quotient = r_old // r\n",
        "        r_old, r = r, r_old - quotient * r\n",
        "        d_old, d = d, d_old - quotient * d\n",
        "    return d_old % phi\n",
        "\n",
        "# Nilai-nilai RSA yang sama seperti saat enkripsi\n",
        "p = 17\n",
        "q = 11\n",
        "e = 7\n",
        "\n",
        "# Hitung n dan phi lagi\n",
        "n = p * q\n",
        "phi = (p - 1) * (q - 1)\n",
        "\n",
        "# Hitung kunci privat d\n",
        "d = mod_inverse(e, phi)\n",
        "\n",
        "# Masukkan hasil enkripsi dalam bentuk list angka\n",
        "# Ganti isi list ini sesuai hasil dari program enkripsi\n",
        "ciphertext = [182, 0, 88, 108, ' ', 171, 115, 177, 147, 0]  # contoh dari \"ISMA\"\n",
        "\n",
        "# Inisialisasi hasil dekripsi\n",
        "decrypted_text = \"\"\n",
        "\n",
        "# Proses dekripsi angka menjadi huruf\n",
        "for item in ciphertext:\n",
        "    if isinstance(item, int):\n",
        "        m = pow(item, d, n)            # Dekripsi: m = c^d mod n\n",
        "        decrypted_text += chr(m + 65)  # Ubah angka jadi huruf kembali\n",
        "    else:\n",
        "        decrypted_text += item         # Tambahkan karakter non-angka (misal spasi)\n",
        "\n",
        "# Tampilkan hasil dekripsi\n",
        "print(\"Hasil dekripsi:\", decrypted_text)\n"
      ],
      "metadata": {
        "colab": {
          "base_uri": "https://localhost:8080/"
        },
        "id": "QhGCT6O5G81K",
        "outputId": "0d6326bf-ffd0-4f34-ffe2-dec763d51768"
      },
      "execution_count": null,
      "outputs": [
        {
          "output_type": "stream",
          "name": "stdout",
          "text": [
            "Hasil dekripsi: HALO SEMUA\n"
          ]
        }
      ]
    },
    {
      "cell_type": "code",
      "source": [],
      "metadata": {
        "id": "h_p2yV1q4ptq"
      },
      "execution_count": null,
      "outputs": []
    }
  ]
}